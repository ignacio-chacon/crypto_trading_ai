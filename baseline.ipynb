{
  "nbformat": 4,
  "nbformat_minor": 0,
  "metadata": {
    "colab": {
      "provenance": [],
      "include_colab_link": true
    },
    "kernelspec": {
      "name": "python3",
      "display_name": "Python 3"
    },
    "language_info": {
      "name": "python"
    }
  },
  "cells": [
    {
      "cell_type": "markdown",
      "metadata": {
        "id": "view-in-github",
        "colab_type": "text"
      },
      "source": [
        "<a href=\"https://colab.research.google.com/github/ignacio-chacon/crypto_trading_ai/blob/main/baseline.ipynb\" target=\"_parent\"><img src=\"https://colab.research.google.com/assets/colab-badge.svg\" alt=\"Open In Colab\"/></a>"
      ]
    },
    {
      "cell_type": "code",
      "source": [
        "!pip install ta\n",
        "!pip install dtreeviz"
      ],
      "metadata": {
        "colab": {
          "base_uri": "https://localhost:8080/"
        },
        "id": "QQm9ukUjl4J1",
        "outputId": "b7d88adb-7a91-4b2f-f7c9-b1b077c79a00"
      },
      "execution_count": 1,
      "outputs": [
        {
          "output_type": "stream",
          "name": "stdout",
          "text": [
            "Looking in indexes: https://pypi.org/simple, https://us-python.pkg.dev/colab-wheels/public/simple/\n",
            "Requirement already satisfied: ta in /usr/local/lib/python3.9/dist-packages (0.10.2)\n",
            "Requirement already satisfied: numpy in /usr/local/lib/python3.9/dist-packages (from ta) (1.22.4)\n",
            "Requirement already satisfied: pandas in /usr/local/lib/python3.9/dist-packages (from ta) (1.4.4)\n",
            "Requirement already satisfied: python-dateutil>=2.8.1 in /usr/local/lib/python3.9/dist-packages (from pandas->ta) (2.8.2)\n",
            "Requirement already satisfied: pytz>=2020.1 in /usr/local/lib/python3.9/dist-packages (from pandas->ta) (2022.7.1)\n",
            "Requirement already satisfied: six>=1.5 in /usr/local/lib/python3.9/dist-packages (from python-dateutil>=2.8.1->pandas->ta) (1.16.0)\n",
            "Looking in indexes: https://pypi.org/simple, https://us-python.pkg.dev/colab-wheels/public/simple/\n",
            "Requirement already satisfied: dtreeviz in /usr/local/lib/python3.9/dist-packages (2.2.0)\n",
            "Requirement already satisfied: numpy in /usr/local/lib/python3.9/dist-packages (from dtreeviz) (1.22.4)\n",
            "Requirement already satisfied: scikit-learn in /usr/local/lib/python3.9/dist-packages (from dtreeviz) (1.2.2)\n",
            "Requirement already satisfied: colour in /usr/local/lib/python3.9/dist-packages (from dtreeviz) (0.1.5)\n",
            "Requirement already satisfied: graphviz>=0.9 in /usr/local/lib/python3.9/dist-packages (from dtreeviz) (0.20.1)\n",
            "Requirement already satisfied: matplotlib in /usr/local/lib/python3.9/dist-packages (from dtreeviz) (3.7.1)\n",
            "Requirement already satisfied: pytest in /usr/local/lib/python3.9/dist-packages (from dtreeviz) (7.2.2)\n",
            "Requirement already satisfied: pandas in /usr/local/lib/python3.9/dist-packages (from dtreeviz) (1.4.4)\n",
            "Requirement already satisfied: kiwisolver>=1.0.1 in /usr/local/lib/python3.9/dist-packages (from matplotlib->dtreeviz) (1.4.4)\n",
            "Requirement already satisfied: cycler>=0.10 in /usr/local/lib/python3.9/dist-packages (from matplotlib->dtreeviz) (0.11.0)\n",
            "Requirement already satisfied: python-dateutil>=2.7 in /usr/local/lib/python3.9/dist-packages (from matplotlib->dtreeviz) (2.8.2)\n",
            "Requirement already satisfied: importlib-resources>=3.2.0 in /usr/local/lib/python3.9/dist-packages (from matplotlib->dtreeviz) (5.12.0)\n",
            "Requirement already satisfied: fonttools>=4.22.0 in /usr/local/lib/python3.9/dist-packages (from matplotlib->dtreeviz) (4.39.3)\n",
            "Requirement already satisfied: contourpy>=1.0.1 in /usr/local/lib/python3.9/dist-packages (from matplotlib->dtreeviz) (1.0.7)\n",
            "Requirement already satisfied: pyparsing>=2.3.1 in /usr/local/lib/python3.9/dist-packages (from matplotlib->dtreeviz) (3.0.9)\n",
            "Requirement already satisfied: pillow>=6.2.0 in /usr/local/lib/python3.9/dist-packages (from matplotlib->dtreeviz) (8.4.0)\n",
            "Requirement already satisfied: packaging>=20.0 in /usr/local/lib/python3.9/dist-packages (from matplotlib->dtreeviz) (23.0)\n",
            "Requirement already satisfied: pytz>=2020.1 in /usr/local/lib/python3.9/dist-packages (from pandas->dtreeviz) (2022.7.1)\n",
            "Requirement already satisfied: iniconfig in /usr/local/lib/python3.9/dist-packages (from pytest->dtreeviz) (2.0.0)\n",
            "Requirement already satisfied: pluggy<2.0,>=0.12 in /usr/local/lib/python3.9/dist-packages (from pytest->dtreeviz) (1.0.0)\n",
            "Requirement already satisfied: attrs>=19.2.0 in /usr/local/lib/python3.9/dist-packages (from pytest->dtreeviz) (22.2.0)\n",
            "Requirement already satisfied: exceptiongroup>=1.0.0rc8 in /usr/local/lib/python3.9/dist-packages (from pytest->dtreeviz) (1.1.1)\n",
            "Requirement already satisfied: tomli>=1.0.0 in /usr/local/lib/python3.9/dist-packages (from pytest->dtreeviz) (2.0.1)\n",
            "Requirement already satisfied: threadpoolctl>=2.0.0 in /usr/local/lib/python3.9/dist-packages (from scikit-learn->dtreeviz) (3.1.0)\n",
            "Requirement already satisfied: joblib>=1.1.1 in /usr/local/lib/python3.9/dist-packages (from scikit-learn->dtreeviz) (1.1.1)\n",
            "Requirement already satisfied: scipy>=1.3.2 in /usr/local/lib/python3.9/dist-packages (from scikit-learn->dtreeviz) (1.10.1)\n",
            "Requirement already satisfied: zipp>=3.1.0 in /usr/local/lib/python3.9/dist-packages (from importlib-resources>=3.2.0->matplotlib->dtreeviz) (3.15.0)\n",
            "Requirement already satisfied: six>=1.5 in /usr/local/lib/python3.9/dist-packages (from python-dateutil>=2.7->matplotlib->dtreeviz) (1.16.0)\n"
          ]
        }
      ]
    },
    {
      "cell_type": "code",
      "execution_count": 2,
      "metadata": {
        "id": "TfGAe56BlWVh"
      },
      "outputs": [],
      "source": [
        "import pandas as pd\n",
        "import ta\n",
        "import numpy as np\n",
        "import matplotlib.pyplot as plt\n",
        "import seaborn as sns\n",
        "import dtreeviz\n",
        "from sklearn.model_selection import TimeSeriesSplit\n",
        "from sklearn.model_selection import cross_validate\n",
        "from sklearn import tree\n"
      ]
    },
    {
      "cell_type": "code",
      "source": [
        "df_hist_data = pd.concat([pd.read_csv(\"https://github.com/ignacio-chacon/crypto_trading_ai/raw/main/hist_data_1.csv\"),\n",
        "                         pd.read_csv(\"https://github.com/ignacio-chacon/crypto_trading_ai/raw/main/hist_data_2.csv\")]).reset_index().drop(columns = [\"index\"])"
      ],
      "metadata": {
        "id": "IDpBKOrbmOz-"
      },
      "execution_count": 4,
      "outputs": []
    },
    {
      "cell_type": "code",
      "source": [
        "df_hist_data.head()"
      ],
      "metadata": {
        "colab": {
          "base_uri": "https://localhost:8080/",
          "height": 206
        },
        "id": "DKCMbLLKmmky",
        "outputId": "349c83fb-796a-4b53-8ae1-9c03d8dc633a"
      },
      "execution_count": 5,
      "outputs": [
        {
          "output_type": "execute_result",
          "data": {
            "text/plain": [
              "                  date    open    high     low   close  Volume BTC  \\\n",
              "0  2017-01-01 00:00:00  966.34  966.37  966.16  966.37   15.697376   \n",
              "1  2017-01-01 00:05:00  966.43  966.58  966.43  966.58    0.438732   \n",
              "2  2017-01-01 00:10:00  966.57  966.57  964.60  965.55    6.661770   \n",
              "3  2017-01-01 00:15:00  965.59  966.57  965.55  965.55   20.773385   \n",
              "4  2017-01-01 00:20:00  965.55  966.54  964.87  964.87    0.670923   \n",
              "\n",
              "     Volume USD  \n",
              "0  15169.245264  \n",
              "1    424.053962  \n",
              "2   6434.262218  \n",
              "3  20078.145181  \n",
              "4    647.704320  "
            ],
            "text/html": [
              "\n",
              "  <div id=\"df-5d081716-2e78-46f8-9e94-a817106b5952\">\n",
              "    <div class=\"colab-df-container\">\n",
              "      <div>\n",
              "<style scoped>\n",
              "    .dataframe tbody tr th:only-of-type {\n",
              "        vertical-align: middle;\n",
              "    }\n",
              "\n",
              "    .dataframe tbody tr th {\n",
              "        vertical-align: top;\n",
              "    }\n",
              "\n",
              "    .dataframe thead th {\n",
              "        text-align: right;\n",
              "    }\n",
              "</style>\n",
              "<table border=\"1\" class=\"dataframe\">\n",
              "  <thead>\n",
              "    <tr style=\"text-align: right;\">\n",
              "      <th></th>\n",
              "      <th>date</th>\n",
              "      <th>open</th>\n",
              "      <th>high</th>\n",
              "      <th>low</th>\n",
              "      <th>close</th>\n",
              "      <th>Volume BTC</th>\n",
              "      <th>Volume USD</th>\n",
              "    </tr>\n",
              "  </thead>\n",
              "  <tbody>\n",
              "    <tr>\n",
              "      <th>0</th>\n",
              "      <td>2017-01-01 00:00:00</td>\n",
              "      <td>966.34</td>\n",
              "      <td>966.37</td>\n",
              "      <td>966.16</td>\n",
              "      <td>966.37</td>\n",
              "      <td>15.697376</td>\n",
              "      <td>15169.245264</td>\n",
              "    </tr>\n",
              "    <tr>\n",
              "      <th>1</th>\n",
              "      <td>2017-01-01 00:05:00</td>\n",
              "      <td>966.43</td>\n",
              "      <td>966.58</td>\n",
              "      <td>966.43</td>\n",
              "      <td>966.58</td>\n",
              "      <td>0.438732</td>\n",
              "      <td>424.053962</td>\n",
              "    </tr>\n",
              "    <tr>\n",
              "      <th>2</th>\n",
              "      <td>2017-01-01 00:10:00</td>\n",
              "      <td>966.57</td>\n",
              "      <td>966.57</td>\n",
              "      <td>964.60</td>\n",
              "      <td>965.55</td>\n",
              "      <td>6.661770</td>\n",
              "      <td>6434.262218</td>\n",
              "    </tr>\n",
              "    <tr>\n",
              "      <th>3</th>\n",
              "      <td>2017-01-01 00:15:00</td>\n",
              "      <td>965.59</td>\n",
              "      <td>966.57</td>\n",
              "      <td>965.55</td>\n",
              "      <td>965.55</td>\n",
              "      <td>20.773385</td>\n",
              "      <td>20078.145181</td>\n",
              "    </tr>\n",
              "    <tr>\n",
              "      <th>4</th>\n",
              "      <td>2017-01-01 00:20:00</td>\n",
              "      <td>965.55</td>\n",
              "      <td>966.54</td>\n",
              "      <td>964.87</td>\n",
              "      <td>964.87</td>\n",
              "      <td>0.670923</td>\n",
              "      <td>647.704320</td>\n",
              "    </tr>\n",
              "  </tbody>\n",
              "</table>\n",
              "</div>\n",
              "      <button class=\"colab-df-convert\" onclick=\"convertToInteractive('df-5d081716-2e78-46f8-9e94-a817106b5952')\"\n",
              "              title=\"Convert this dataframe to an interactive table.\"\n",
              "              style=\"display:none;\">\n",
              "        \n",
              "  <svg xmlns=\"http://www.w3.org/2000/svg\" height=\"24px\"viewBox=\"0 0 24 24\"\n",
              "       width=\"24px\">\n",
              "    <path d=\"M0 0h24v24H0V0z\" fill=\"none\"/>\n",
              "    <path d=\"M18.56 5.44l.94 2.06.94-2.06 2.06-.94-2.06-.94-.94-2.06-.94 2.06-2.06.94zm-11 1L8.5 8.5l.94-2.06 2.06-.94-2.06-.94L8.5 2.5l-.94 2.06-2.06.94zm10 10l.94 2.06.94-2.06 2.06-.94-2.06-.94-.94-2.06-.94 2.06-2.06.94z\"/><path d=\"M17.41 7.96l-1.37-1.37c-.4-.4-.92-.59-1.43-.59-.52 0-1.04.2-1.43.59L10.3 9.45l-7.72 7.72c-.78.78-.78 2.05 0 2.83L4 21.41c.39.39.9.59 1.41.59.51 0 1.02-.2 1.41-.59l7.78-7.78 2.81-2.81c.8-.78.8-2.07 0-2.86zM5.41 20L4 18.59l7.72-7.72 1.47 1.35L5.41 20z\"/>\n",
              "  </svg>\n",
              "      </button>\n",
              "      \n",
              "  <style>\n",
              "    .colab-df-container {\n",
              "      display:flex;\n",
              "      flex-wrap:wrap;\n",
              "      gap: 12px;\n",
              "    }\n",
              "\n",
              "    .colab-df-convert {\n",
              "      background-color: #E8F0FE;\n",
              "      border: none;\n",
              "      border-radius: 50%;\n",
              "      cursor: pointer;\n",
              "      display: none;\n",
              "      fill: #1967D2;\n",
              "      height: 32px;\n",
              "      padding: 0 0 0 0;\n",
              "      width: 32px;\n",
              "    }\n",
              "\n",
              "    .colab-df-convert:hover {\n",
              "      background-color: #E2EBFA;\n",
              "      box-shadow: 0px 1px 2px rgba(60, 64, 67, 0.3), 0px 1px 3px 1px rgba(60, 64, 67, 0.15);\n",
              "      fill: #174EA6;\n",
              "    }\n",
              "\n",
              "    [theme=dark] .colab-df-convert {\n",
              "      background-color: #3B4455;\n",
              "      fill: #D2E3FC;\n",
              "    }\n",
              "\n",
              "    [theme=dark] .colab-df-convert:hover {\n",
              "      background-color: #434B5C;\n",
              "      box-shadow: 0px 1px 3px 1px rgba(0, 0, 0, 0.15);\n",
              "      filter: drop-shadow(0px 1px 2px rgba(0, 0, 0, 0.3));\n",
              "      fill: #FFFFFF;\n",
              "    }\n",
              "  </style>\n",
              "\n",
              "      <script>\n",
              "        const buttonEl =\n",
              "          document.querySelector('#df-5d081716-2e78-46f8-9e94-a817106b5952 button.colab-df-convert');\n",
              "        buttonEl.style.display =\n",
              "          google.colab.kernel.accessAllowed ? 'block' : 'none';\n",
              "\n",
              "        async function convertToInteractive(key) {\n",
              "          const element = document.querySelector('#df-5d081716-2e78-46f8-9e94-a817106b5952');\n",
              "          const dataTable =\n",
              "            await google.colab.kernel.invokeFunction('convertToInteractive',\n",
              "                                                     [key], {});\n",
              "          if (!dataTable) return;\n",
              "\n",
              "          const docLinkHtml = 'Like what you see? Visit the ' +\n",
              "            '<a target=\"_blank\" href=https://colab.research.google.com/notebooks/data_table.ipynb>data table notebook</a>'\n",
              "            + ' to learn more about interactive tables.';\n",
              "          element.innerHTML = '';\n",
              "          dataTable['output_type'] = 'display_data';\n",
              "          await google.colab.output.renderOutput(dataTable, element);\n",
              "          const docLink = document.createElement('div');\n",
              "          docLink.innerHTML = docLinkHtml;\n",
              "          element.appendChild(docLink);\n",
              "        }\n",
              "      </script>\n",
              "    </div>\n",
              "  </div>\n",
              "  "
            ]
          },
          "metadata": {},
          "execution_count": 5
        }
      ]
    },
    {
      "cell_type": "code",
      "source": [
        "sns.lineplot(x = df_hist_data[\"date\"][200000:300000], y = df_hist_data[\"high\"][200000:300000])"
      ],
      "metadata": {
        "id": "hZHiM-1FgEWD",
        "outputId": "f0149a52-b6c7-42ae-90f7-e00230185b33",
        "colab": {
          "base_uri": "https://localhost:8080/",
          "height": 466
        }
      },
      "execution_count": null,
      "outputs": [
        {
          "output_type": "execute_result",
          "data": {
            "text/plain": [
              "<Axes: xlabel='date', ylabel='high'>"
            ]
          },
          "metadata": {},
          "execution_count": 8
        },
        {
          "output_type": "display_data",
          "data": {
            "text/plain": [
              "<Figure size 640x480 with 1 Axes>"
            ],
            "image/png": "[encoded data removed]"
          },
          "metadata": {}
        }
      ]
    },
    {
      "cell_type": "code",
      "source": [
        "#no sé con que rellena el fillna, ojo con eso. Lo ideal sería que interpole, después me fijo bien.\n",
        "df_hist_data_ta = ta.add_all_ta_features(df_hist_data,open=\"open\", high=\"high\", low=\"low\", close=\"close\", volume=\"Volume BTC\", fillna = True)"
      ],
      "metadata": {
        "colab": {
          "base_uri": "https://localhost:8080/"
        },
        "id": "yKUmhyMHnMam",
        "outputId": "15ec0535-d2fe-4235-cb8d-b1e64a49a793"
      },
      "execution_count": 5,
      "outputs": [
        {
          "output_type": "stream",
          "name": "stderr",
          "text": [
            "/usr/local/lib/python3.9/dist-packages/ta/trend.py:780: RuntimeWarning: invalid value encountered in double_scalars\n",
            "/usr/local/lib/python3.9/dist-packages/ta/trend.py:785: RuntimeWarning: invalid value encountered in double_scalars\n"
          ]
        }
      ]
    },
    {
      "cell_type": "code",
      "source": [
        "df_hist_data_ta.info()"
      ],
      "metadata": {
        "colab": {
          "base_uri": "https://localhost:8080/"
        },
        "id": "eF_wmYWCpWkn",
        "outputId": "246f7ae9-a721-49a1-fb5c-ea5dae93ee55"
      },
      "execution_count": 6,
      "outputs": [
        {
          "output_type": "stream",
          "name": "stdout",
          "text": [
            "<class 'pandas.core.frame.DataFrame'>\n",
            "RangeIndex: 542925 entries, 0 to 542924\n",
            "Data columns (total 93 columns):\n",
            " #   Column                     Non-Null Count   Dtype  \n",
            "---  ------                     --------------   -----  \n",
            " 0   date                       542925 non-null  object \n",
            " 1   open                       535063 non-null  float64\n",
            " 2   high                       535063 non-null  float64\n",
            " 3   low                        535063 non-null  float64\n",
            " 4   close                      535063 non-null  float64\n",
            " 5   Volume BTC                 542925 non-null  float64\n",
            " 6   Volume USD                 542925 non-null  float64\n",
            " 7   volume_adi                 542925 non-null  float64\n",
            " 8   volume_obv                 542925 non-null  float64\n",
            " 9   volume_cmf                 542925 non-null  float64\n",
            " 10  volume_fi                  542925 non-null  float64\n",
            " 11  volume_em                  542925 non-null  float64\n",
            " 12  volume_sma_em              542925 non-null  float64\n",
            " 13  volume_vpt                 542925 non-null  float64\n",
            " 14  volume_vwap                542925 non-null  float64\n",
            " 15  volume_mfi                 542925 non-null  float64\n",
            " 16  volume_nvi                 542925 non-null  float64\n",
            " 17  volatility_bbm             542925 non-null  float64\n",
            " 18  volatility_bbh             542925 non-null  float64\n",
            " 19  volatility_bbl             542925 non-null  float64\n",
            " 20  volatility_bbw             542925 non-null  float64\n",
            " 21  volatility_bbp             542925 non-null  float64\n",
            " 22  volatility_bbhi            542925 non-null  float64\n",
            " 23  volatility_bbli            542925 non-null  float64\n",
            " 24  volatility_kcc             542925 non-null  float64\n",
            " 25  volatility_kch             542925 non-null  float64\n",
            " 26  volatility_kcl             542925 non-null  float64\n",
            " 27  volatility_kcw             542925 non-null  float64\n",
            " 28  volatility_kcp             542925 non-null  float64\n",
            " 29  volatility_kchi            542925 non-null  float64\n",
            " 30  volatility_kcli            542925 non-null  float64\n",
            " 31  volatility_dcl             542925 non-null  float64\n",
            " 32  volatility_dch             542925 non-null  float64\n",
            " 33  volatility_dcm             542925 non-null  float64\n",
            " 34  volatility_dcw             542925 non-null  float64\n",
            " 35  volatility_dcp             542925 non-null  float64\n",
            " 36  volatility_atr             542925 non-null  float64\n",
            " 37  volatility_ui              542925 non-null  float64\n",
            " 38  trend_macd                 542925 non-null  float64\n",
            " 39  trend_macd_signal          542925 non-null  float64\n",
            " 40  trend_macd_diff            542925 non-null  float64\n",
            " 41  trend_sma_fast             535074 non-null  float64\n",
            " 42  trend_sma_slow             535088 non-null  float64\n",
            " 43  trend_ema_fast             542925 non-null  float64\n",
            " 44  trend_ema_slow             542925 non-null  float64\n",
            " 45  trend_vortex_ind_pos       542925 non-null  float64\n",
            " 46  trend_vortex_ind_neg       542925 non-null  float64\n",
            " 47  trend_vortex_ind_diff      542925 non-null  float64\n",
            " 48  trend_trix                 542925 non-null  float64\n",
            " 49  trend_mass_index           542925 non-null  float64\n",
            " 50  trend_dpo                  542925 non-null  float64\n",
            " 51  trend_kst                  542925 non-null  float64\n",
            " 52  trend_kst_sig              542925 non-null  float64\n",
            " 53  trend_kst_diff             542925 non-null  float64\n",
            " 54  trend_ichimoku_conv        542925 non-null  float64\n",
            " 55  trend_ichimoku_base        542925 non-null  float64\n",
            " 56  trend_ichimoku_a           542925 non-null  float64\n",
            " 57  trend_ichimoku_b           542925 non-null  float64\n",
            " 58  trend_stc                  542925 non-null  float64\n",
            " 59  trend_adx                  542925 non-null  float64\n",
            " 60  trend_adx_pos              542925 non-null  float64\n",
            " 61  trend_adx_neg              542925 non-null  float64\n",
            " 62  trend_cci                  542925 non-null  float64\n",
            " 63  trend_visual_ichimoku_a    542925 non-null  float64\n",
            " 64  trend_visual_ichimoku_b    542925 non-null  float64\n",
            " 65  trend_aroon_up             542925 non-null  float64\n",
            " 66  trend_aroon_down           542925 non-null  float64\n",
            " 67  trend_aroon_ind            542925 non-null  float64\n",
            " 68  trend_psar_up              542925 non-null  float64\n",
            " 69  trend_psar_down            542925 non-null  float64\n",
            " 70  trend_psar_up_indicator    542925 non-null  float64\n",
            " 71  trend_psar_down_indicator  542925 non-null  float64\n",
            " 72  momentum_rsi               542925 non-null  float64\n",
            " 73  momentum_stoch_rsi         542925 non-null  float64\n",
            " 74  momentum_stoch_rsi_k       542925 non-null  float64\n",
            " 75  momentum_stoch_rsi_d       542925 non-null  float64\n",
            " 76  momentum_tsi               542925 non-null  float64\n",
            " 77  momentum_uo                542925 non-null  float64\n",
            " 78  momentum_stoch             542925 non-null  float64\n",
            " 79  momentum_stoch_signal      542925 non-null  float64\n",
            " 80  momentum_wr                542925 non-null  float64\n",
            " 81  momentum_ao                542925 non-null  float64\n",
            " 82  momentum_roc               542925 non-null  float64\n",
            " 83  momentum_ppo               542925 non-null  float64\n",
            " 84  momentum_ppo_signal        542925 non-null  float64\n",
            " 85  momentum_ppo_hist          542925 non-null  float64\n",
            " 86  momentum_pvo               542925 non-null  float64\n",
            " 87  momentum_pvo_signal        542925 non-null  float64\n",
            " 88  momentum_pvo_hist          542925 non-null  float64\n",
            " 89  momentum_kama              542925 non-null  float64\n",
            " 90  others_dr                  542925 non-null  float64\n",
            " 91  others_dlr                 542925 non-null  float64\n",
            " 92  others_cr                  542925 non-null  float64\n",
            "dtypes: float64(92), object(1)\n",
            "memory usage: 385.2+ MB\n"
          ]
        }
      ]
    },
    {
      "cell_type": "code",
      "source": [
        "def window_input_output(data: pd.DataFrame, input_length: int, output_length: int, column: str) -> pd.DataFrame:\n",
        "    \n",
        "    df = data.copy()\n",
        "    \n",
        "    i = 1\n",
        "    while i < input_length:\n",
        "        df[f'x_{i}'] = df[column].shift(-i)\n",
        "        i = i + 1\n",
        "        \n",
        "    j = 0\n",
        "    while j < output_length:\n",
        "        df[f'y_{j}'] = df[column].shift(-input_length-j)\n",
        "        j = j + 1\n",
        "        \n",
        "    df = df.dropna(axis=0)\n",
        "    \n",
        "    return df"
      ],
      "metadata": {
        "id": "tMf6kovA0i7q"
      },
      "execution_count": 6,
      "outputs": []
    },
    {
      "cell_type": "code",
      "source": [
        "df_hist_btc_window = window_input_output(df_hist_data_ta, 5, 3, \"high\")\n",
        "df_hist_btc_window.head()"
      ],
      "metadata": {
        "colab": {
          "base_uri": "https://localhost:8080/",
          "height": 404
        },
        "id": "4PPPBGRQ3jHj",
        "outputId": "9de842ea-273e-4083-d9d3-3941c4e31b12"
      },
      "execution_count": 7,
      "outputs": [
        {
          "output_type": "execute_result",
          "data": {
            "text/plain": [
              "                  date    open    high     low   close  Volume BTC  \\\n",
              "0  2017-01-01 00:00:00  966.34  966.37  966.16  966.37   15.697376   \n",
              "1  2017-01-01 00:05:00  966.43  966.58  966.43  966.58    0.438732   \n",
              "2  2017-01-01 00:10:00  966.57  966.57  964.60  965.55    6.661770   \n",
              "3  2017-01-01 00:15:00  965.59  966.57  965.55  965.55   20.773385   \n",
              "4  2017-01-01 00:20:00  965.55  966.54  964.87  964.87    0.670923   \n",
              "\n",
              "     Volume USD  volume_adi  volume_obv  volume_cmf  ...  others_dr  \\\n",
              "0  15169.245264   15.697376   15.697376    1.000000  ... -94.038374   \n",
              "1    424.053962   16.136109   16.136109    1.000000  ...   0.021731   \n",
              "2   6434.262218   15.899396    9.474338    0.697407  ...  -0.106561   \n",
              "3  20078.145181   -4.873989   30.247723   -0.111862  ...   0.000000   \n",
              "4    647.704320   -5.544912   29.576800   -0.125331  ...  -0.070426   \n",
              "\n",
              "   others_dlr  others_cr     x_1     x_2     x_3     x_4     y_0     y_1  \\\n",
              "0    0.000000   0.000000  966.58  966.57  966.57  966.54  965.26  965.24   \n",
              "1    0.021728   0.021731  966.57  966.57  966.54  965.26  965.24  966.40   \n",
              "2   -0.106618  -0.084854  966.57  966.54  965.26  965.24  966.40  966.40   \n",
              "3    0.000000  -0.084854  966.54  965.26  965.24  966.40  966.40  966.98   \n",
              "4   -0.070451  -0.155220  965.26  965.24  966.40  966.40  966.98  966.97   \n",
              "\n",
              "      y_2  \n",
              "0  966.40  \n",
              "1  966.40  \n",
              "2  966.98  \n",
              "3  966.97  \n",
              "4  966.99  \n",
              "\n",
              "[5 rows x 100 columns]"
            ],
            "text/html": [
              "\n",
              "  <div id=\"df-13d27f36-d070-4351-a914-44610077d094\">\n",
              "    <div class=\"colab-df-container\">\n",
              "      <div>\n",
              "<style scoped>\n",
              "    .dataframe tbody tr th:only-of-type {\n",
              "        vertical-align: middle;\n",
              "    }\n",
              "\n",
              "    .dataframe tbody tr th {\n",
              "        vertical-align: top;\n",
              "    }\n",
              "\n",
              "    .dataframe thead th {\n",
              "        text-align: right;\n",
              "    }\n",
              "</style>\n",
              "<table border=\"1\" class=\"dataframe\">\n",
              "  <thead>\n",
              "    <tr style=\"text-align: right;\">\n",
              "      <th></th>\n",
              "      <th>date</th>\n",
              "      <th>open</th>\n",
              "      <th>high</th>\n",
              "      <th>low</th>\n",
              "      <th>close</th>\n",
              "      <th>Volume BTC</th>\n",
              "      <th>Volume USD</th>\n",
              "      <th>volume_adi</th>\n",
              "      <th>volume_obv</th>\n",
              "      <th>volume_cmf</th>\n",
              "      <th>...</th>\n",
              "      <th>others_dr</th>\n",
              "      <th>others_dlr</th>\n",
              "      <th>others_cr</th>\n",
              "      <th>x_1</th>\n",
              "      <th>x_2</th>\n",
              "      <th>x_3</th>\n",
              "      <th>x_4</th>\n",
              "      <th>y_0</th>\n",
              "      <th>y_1</th>\n",
              "      <th>y_2</th>\n",
              "    </tr>\n",
              "  </thead>\n",
              "  <tbody>\n",
              "    <tr>\n",
              "      <th>0</th>\n",
              "      <td>2017-01-01 00:00:00</td>\n",
              "      <td>966.34</td>\n",
              "      <td>966.37</td>\n",
              "      <td>966.16</td>\n",
              "      <td>966.37</td>\n",
              "      <td>15.697376</td>\n",
              "      <td>15169.245264</td>\n",
              "      <td>15.697376</td>\n",
              "      <td>15.697376</td>\n",
              "      <td>1.000000</td>\n",
              "      <td>...</td>\n",
              "      <td>-94.038374</td>\n",
              "      <td>0.000000</td>\n",
              "      <td>0.000000</td>\n",
              "      <td>966.58</td>\n",
              "      <td>966.57</td>\n",
              "      <td>966.57</td>\n",
              "      <td>966.54</td>\n",
              "      <td>965.26</td>\n",
              "      <td>965.24</td>\n",
              "      <td>966.40</td>\n",
              "    </tr>\n",
              "    <tr>\n",
              "      <th>1</th>\n",
              "      <td>2017-01-01 00:05:00</td>\n",
              "      <td>966.43</td>\n",
              "      <td>966.58</td>\n",
              "      <td>966.43</td>\n",
              "      <td>966.58</td>\n",
              "      <td>0.438732</td>\n",
              "      <td>424.053962</td>\n",
              "      <td>16.136109</td>\n",
              "      <td>16.136109</td>\n",
              "      <td>1.000000</td>\n",
              "      <td>...</td>\n",
              "      <td>0.021731</td>\n",
              "      <td>0.021728</td>\n",
              "      <td>0.021731</td>\n",
              "      <td>966.57</td>\n",
              "      <td>966.57</td>\n",
              "      <td>966.54</td>\n",
              "      <td>965.26</td>\n",
              "      <td>965.24</td>\n",
              "      <td>966.40</td>\n",
              "      <td>966.40</td>\n",
              "    </tr>\n",
              "    <tr>\n",
              "      <th>2</th>\n",
              "      <td>2017-01-01 00:10:00</td>\n",
              "      <td>966.57</td>\n",
              "      <td>966.57</td>\n",
              "      <td>964.60</td>\n",
              "      <td>965.55</td>\n",
              "      <td>6.661770</td>\n",
              "      <td>6434.262218</td>\n",
              "      <td>15.899396</td>\n",
              "      <td>9.474338</td>\n",
              "      <td>0.697407</td>\n",
              "      <td>...</td>\n",
              "      <td>-0.106561</td>\n",
              "      <td>-0.106618</td>\n",
              "      <td>-0.084854</td>\n",
              "      <td>966.57</td>\n",
              "      <td>966.54</td>\n",
              "      <td>965.26</td>\n",
              "      <td>965.24</td>\n",
              "      <td>966.40</td>\n",
              "      <td>966.40</td>\n",
              "      <td>966.98</td>\n",
              "    </tr>\n",
              "    <tr>\n",
              "      <th>3</th>\n",
              "      <td>2017-01-01 00:15:00</td>\n",
              "      <td>965.59</td>\n",
              "      <td>966.57</td>\n",
              "      <td>965.55</td>\n",
              "      <td>965.55</td>\n",
              "      <td>20.773385</td>\n",
              "      <td>20078.145181</td>\n",
              "      <td>-4.873989</td>\n",
              "      <td>30.247723</td>\n",
              "      <td>-0.111862</td>\n",
              "      <td>...</td>\n",
              "      <td>0.000000</td>\n",
              "      <td>0.000000</td>\n",
              "      <td>-0.084854</td>\n",
              "      <td>966.54</td>\n",
              "      <td>965.26</td>\n",
              "      <td>965.24</td>\n",
              "      <td>966.40</td>\n",
              "      <td>966.40</td>\n",
              "      <td>966.98</td>\n",
              "      <td>966.97</td>\n",
              "    </tr>\n",
              "    <tr>\n",
              "      <th>4</th>\n",
              "      <td>2017-01-01 00:20:00</td>\n",
              "      <td>965.55</td>\n",
              "      <td>966.54</td>\n",
              "      <td>964.87</td>\n",
              "      <td>964.87</td>\n",
              "      <td>0.670923</td>\n",
              "      <td>647.704320</td>\n",
              "      <td>-5.544912</td>\n",
              "      <td>29.576800</td>\n",
              "      <td>-0.125331</td>\n",
              "      <td>...</td>\n",
              "      <td>-0.070426</td>\n",
              "      <td>-0.070451</td>\n",
              "      <td>-0.155220</td>\n",
              "      <td>965.26</td>\n",
              "      <td>965.24</td>\n",
              "      <td>966.40</td>\n",
              "      <td>966.40</td>\n",
              "      <td>966.98</td>\n",
              "      <td>966.97</td>\n",
              "      <td>966.99</td>\n",
              "    </tr>\n",
              "  </tbody>\n",
              "</table>\n",
              "<p>5 rows × 100 columns</p>\n",
              "</div>\n",
              "      <button class=\"colab-df-convert\" onclick=\"convertToInteractive('df-13d27f36-d070-4351-a914-44610077d094')\"\n",
              "              title=\"Convert this dataframe to an interactive table.\"\n",
              "              style=\"display:none;\">\n",
              "        \n",
              "  <svg xmlns=\"http://www.w3.org/2000/svg\" height=\"24px\"viewBox=\"0 0 24 24\"\n",
              "       width=\"24px\">\n",
              "    <path d=\"M0 0h24v24H0V0z\" fill=\"none\"/>\n",
              "    <path d=\"M18.56 5.44l.94 2.06.94-2.06 2.06-.94-2.06-.94-.94-2.06-.94 2.06-2.06.94zm-11 1L8.5 8.5l.94-2.06 2.06-.94-2.06-.94L8.5 2.5l-.94 2.06-2.06.94zm10 10l.94 2.06.94-2.06 2.06-.94-2.06-.94-.94-2.06-.94 2.06-2.06.94z\"/><path d=\"M17.41 7.96l-1.37-1.37c-.4-.4-.92-.59-1.43-.59-.52 0-1.04.2-1.43.59L10.3 9.45l-7.72 7.72c-.78.78-.78 2.05 0 2.83L4 21.41c.39.39.9.59 1.41.59.51 0 1.02-.2 1.41-.59l7.78-7.78 2.81-2.81c.8-.78.8-2.07 0-2.86zM5.41 20L4 18.59l7.72-7.72 1.47 1.35L5.41 20z\"/>\n",
              "  </svg>\n",
              "      </button>\n",
              "      \n",
              "  <style>\n",
              "    .colab-df-container {\n",
              "      display:flex;\n",
              "      flex-wrap:wrap;\n",
              "      gap: 12px;\n",
              "    }\n",
              "\n",
              "    .colab-df-convert {\n",
              "      background-color: #E8F0FE;\n",
              "      border: none;\n",
              "      border-radius: 50%;\n",
              "      cursor: pointer;\n",
              "      display: none;\n",
              "      fill: #1967D2;\n",
              "      height: 32px;\n",
              "      padding: 0 0 0 0;\n",
              "      width: 32px;\n",
              "    }\n",
              "\n",
              "    .colab-df-convert:hover {\n",
              "      background-color: #E2EBFA;\n",
              "      box-shadow: 0px 1px 2px rgba(60, 64, 67, 0.3), 0px 1px 3px 1px rgba(60, 64, 67, 0.15);\n",
              "      fill: #174EA6;\n",
              "    }\n",
              "\n",
              "    [theme=dark] .colab-df-convert {\n",
              "      background-color: #3B4455;\n",
              "      fill: #D2E3FC;\n",
              "    }\n",
              "\n",
              "    [theme=dark] .colab-df-convert:hover {\n",
              "      background-color: #434B5C;\n",
              "      box-shadow: 0px 1px 3px 1px rgba(0, 0, 0, 0.15);\n",
              "      filter: drop-shadow(0px 1px 2px rgba(0, 0, 0, 0.3));\n",
              "      fill: #FFFFFF;\n",
              "    }\n",
              "  </style>\n",
              "\n",
              "      <script>\n",
              "        const buttonEl =\n",
              "          document.querySelector('#df-13d27f36-d070-4351-a914-44610077d094 button.colab-df-convert');\n",
              "        buttonEl.style.display =\n",
              "          google.colab.kernel.accessAllowed ? 'block' : 'none';\n",
              "\n",
              "        async function convertToInteractive(key) {\n",
              "          const element = document.querySelector('#df-13d27f36-d070-4351-a914-44610077d094');\n",
              "          const dataTable =\n",
              "            await google.colab.kernel.invokeFunction('convertToInteractive',\n",
              "                                                     [key], {});\n",
              "          if (!dataTable) return;\n",
              "\n",
              "          const docLinkHtml = 'Like what you see? Visit the ' +\n",
              "            '<a target=\"_blank\" href=https://colab.research.google.com/notebooks/data_table.ipynb>data table notebook</a>'\n",
              "            + ' to learn more about interactive tables.';\n",
              "          element.innerHTML = '';\n",
              "          dataTable['output_type'] = 'display_data';\n",
              "          await google.colab.output.renderOutput(dataTable, element);\n",
              "          const docLink = document.createElement('div');\n",
              "          docLink.innerHTML = docLinkHtml;\n",
              "          element.appendChild(docLink);\n",
              "        }\n",
              "      </script>\n",
              "    </div>\n",
              "  </div>\n",
              "  "
            ]
          },
          "metadata": {},
          "execution_count": 7
        }
      ]
    },
    {
      "cell_type": "code",
      "source": [
        "df_hist_brc_window_test_set = df_hist_btc_window[int(len(df_hist_btc_window)*0.95):]\n",
        "df_hist_brc_window_train_set = df_hist_btc_window[:int(len(df_hist_btc_window)*0.95)]"
      ],
      "metadata": {
        "id": "IvZTDV_heEXx"
      },
      "execution_count": 8,
      "outputs": []
    },
    {
      "cell_type": "code",
      "source": [
        "X = df_hist_brc_window_train_set[list(df_hist_brc_window_train_set.columns)[1:-3]]\n",
        "y = df_hist_brc_window_train_set[list(df_hist_brc_window_train_set.columns)[-3:]]\n",
        "X_test = df_hist_brc_window_test_set[list(df_hist_brc_window_test_set.columns)[1:-3]]\n",
        "y_test = df_hist_brc_window_test_set[list(df_hist_brc_window_test_set.columns)[-3:]]"
      ],
      "metadata": {
        "id": "1rXJ5zerz1xq"
      },
      "execution_count": 9,
      "outputs": []
    },
    {
      "cell_type": "markdown",
      "source": [
        "## Como problema de regresión (forecasting)"
      ],
      "metadata": {
        "id": "bff5MLWUhT5H"
      }
    },
    {
      "cell_type": "code",
      "source": [
        "split = TimeSeriesSplit(n_splits=10)"
      ],
      "metadata": {
        "id": "osdm0ec5f21n"
      },
      "execution_count": 19,
      "outputs": []
    },
    {
      "cell_type": "code",
      "source": [
        "def evaluate(model, X, y, cv, scoring):\n",
        "    cv_results = cross_validate(\n",
        "        model,\n",
        "        X,\n",
        "        y,\n",
        "        cv=cv,\n",
        "        scoring=scoring,\n",
        "    )\n",
        "    acc = -cv_results[\"test_accuracy\"]\n",
        "    print(\n",
        "        f\"accuracy: {acc.mean():.3f} +/- {acc.std():.3f}\"\n",
        "    )\n"
      ],
      "metadata": {
        "id": "oPH_hBMP0aFs"
      },
      "execution_count": 25,
      "outputs": []
    },
    {
      "cell_type": "code",
      "source": [
        "model = tree.DecisionTreeRegressor()"
      ],
      "metadata": {
        "id": "znXl7URXhDRG"
      },
      "execution_count": 10,
      "outputs": []
    },
    {
      "cell_type": "code",
      "source": [
        "evaluate(model, X, y, split, [\"neg_root_mean_squared_error\"])"
      ],
      "metadata": {
        "id": "XAh8OrLR5aFi",
        "outputId": "57391c7a-fc8a-497b-a556-0683236e0ae5",
        "colab": {
          "base_uri": "https://localhost:8080/"
        }
      },
      "execution_count": null,
      "outputs": [
        {
          "output_type": "stream",
          "name": "stdout",
          "text": [
            "Root Mean Squared Error: 2208.650 +/- 3252.475\n"
          ]
        }
      ]
    },
    {
      "cell_type": "code",
      "source": [
        "model.fit(X, y)"
      ],
      "metadata": {
        "id": "vZax_7_w_Yok",
        "outputId": "771db193-7697-4ed3-df09-310254e30b70",
        "colab": {
          "base_uri": "https://localhost:8080/",
          "height": 75
        }
      },
      "execution_count": 13,
      "outputs": [
        {
          "output_type": "execute_result",
          "data": {
            "text/plain": [
              "DecisionTreeRegressor()"
            ],
            "text/html": [
              "<style>#sk-container-id-1 {color: black;background-color: white;}#sk-container-id-1 pre{padding: 0;}#sk-container-id-1 div.sk-toggleable {background-color: white;}#sk-container-id-1 label.sk-toggleable__label {cursor: pointer;display: block;width: 100%;margin-bottom: 0;padding: 0.3em;box-sizing: border-box;text-align: center;}#sk-container-id-1 label.sk-toggleable__label-arrow:before {content: \"▸\";float: left;margin-right: 0.25em;color: #696969;}#sk-container-id-1 label.sk-toggleable__label-arrow:hover:before {color: black;}#sk-container-id-1 div.sk-estimator:hover label.sk-toggleable__label-arrow:before {color: black;}#sk-container-id-1 div.sk-toggleable__content {max-height: 0;max-width: 0;overflow: hidden;text-align: left;background-color: #f0f8ff;}#sk-container-id-1 div.sk-toggleable__content pre {margin: 0.2em;color: black;border-radius: 0.25em;background-color: #f0f8ff;}#sk-container-id-1 input.sk-toggleable__control:checked~div.sk-toggleable__content {max-height: 200px;max-width: 100%;overflow: auto;}#sk-container-id-1 input.sk-toggleable__control:checked~label.sk-toggleable__label-arrow:before {content: \"▾\";}#sk-container-id-1 div.sk-estimator input.sk-toggleable__control:checked~label.sk-toggleable__label {background-color: #d4ebff;}#sk-container-id-1 div.sk-label input.sk-toggleable__control:checked~label.sk-toggleable__label {background-color: #d4ebff;}#sk-container-id-1 input.sk-hidden--visually {border: 0;clip: rect(1px 1px 1px 1px);clip: rect(1px, 1px, 1px, 1px);height: 1px;margin: -1px;overflow: hidden;padding: 0;position: absolute;width: 1px;}#sk-container-id-1 div.sk-estimator {font-family: monospace;background-color: #f0f8ff;border: 1px dotted black;border-radius: 0.25em;box-sizing: border-box;margin-bottom: 0.5em;}#sk-container-id-1 div.sk-estimator:hover {background-color: #d4ebff;}#sk-container-id-1 div.sk-parallel-item::after {content: \"\";width: 100%;border-bottom: 1px solid gray;flex-grow: 1;}#sk-container-id-1 div.sk-label:hover label.sk-toggleable__label {background-color: #d4ebff;}#sk-container-id-1 div.sk-serial::before {content: \"\";position: absolute;border-left: 1px solid gray;box-sizing: border-box;top: 0;bottom: 0;left: 50%;z-index: 0;}#sk-container-id-1 div.sk-serial {display: flex;flex-direction: column;align-items: center;background-color: white;padding-right: 0.2em;padding-left: 0.2em;position: relative;}#sk-container-id-1 div.sk-item {position: relative;z-index: 1;}#sk-container-id-1 div.sk-parallel {display: flex;align-items: stretch;justify-content: center;background-color: white;position: relative;}#sk-container-id-1 div.sk-item::before, #sk-container-id-1 div.sk-parallel-item::before {content: \"\";position: absolute;border-left: 1px solid gray;box-sizing: border-box;top: 0;bottom: 0;left: 50%;z-index: -1;}#sk-container-id-1 div.sk-parallel-item {display: flex;flex-direction: column;z-index: 1;position: relative;background-color: white;}#sk-container-id-1 div.sk-parallel-item:first-child::after {align-self: flex-end;width: 50%;}#sk-container-id-1 div.sk-parallel-item:last-child::after {align-self: flex-start;width: 50%;}#sk-container-id-1 div.sk-parallel-item:only-child::after {width: 0;}#sk-container-id-1 div.sk-dashed-wrapped {border: 1px dashed gray;margin: 0 0.4em 0.5em 0.4em;box-sizing: border-box;padding-bottom: 0.4em;background-color: white;}#sk-container-id-1 div.sk-label label {font-family: monospace;font-weight: bold;display: inline-block;line-height: 1.2em;}#sk-container-id-1 div.sk-label-container {text-align: center;}#sk-container-id-1 div.sk-container {/* jupyter's `normalize.less` sets `[hidden] { display: none; }` but bootstrap.min.css set `[hidden] { display: none !important; }` so we also need the `!important` here to be able to override the default hidden behavior on the sphinx rendered scikit-learn.org. See: https://github.com/scikit-learn/scikit-learn/issues/21755 */display: inline-block !important;position: relative;}#sk-container-id-1 div.sk-text-repr-fallback {display: none;}</style><div id=\"sk-container-id-1\" class=\"sk-top-container\"><div class=\"sk-text-repr-fallback\"><pre>DecisionTreeRegressor()</pre><b>In a Jupyter environment, please rerun this cell to show the HTML representation or trust the notebook. <br />On GitHub, the HTML representation is unable to render, please try loading this page with nbviewer.org.</b></div><div class=\"sk-container\" hidden><div class=\"sk-item\"><div class=\"sk-estimator sk-toggleable\"><input class=\"sk-toggleable__control sk-hidden--visually\" id=\"sk-estimator-id-1\" type=\"checkbox\" checked><label for=\"sk-estimator-id-1\" class=\"sk-toggleable__label sk-toggleable__label-arrow\">DecisionTreeRegressor</label><div class=\"sk-toggleable__content\"><pre>DecisionTreeRegressor()</pre></div></div></div></div></div>"
            ]
          },
          "metadata": {},
          "execution_count": 13
        }
      ]
    },
    {
      "cell_type": "code",
      "source": [
        "plt.figure(figsize=(15,12))\n",
        "tree.plot_tree(model, max_depth = 2, feature_names=df_hist_brc_window_train_set.columns[1:-3], filled = True);"
      ],
      "metadata": {
        "id": "L3LOwAS-hyHV",
        "outputId": "c1c93212-5627-4531-bca8-8584a10695c9",
        "colab": {
          "base_uri": "https://localhost:8080/",
          "height": 961
        }
      },
      "execution_count": 41,
      "outputs": [
        {
          "output_type": "display_data",
          "data": {
            "text/plain": [
              "<Figure size 1500x1200 with 1 Axes>"
            ],
            "image/png": "[encoded data removed]"
          },
          "metadata": {}
        }
      ]
    },
    {
      "cell_type": "markdown",
      "source": [
        "Vemos con claridad que el feature más importante es la anteúltima observación. Cuando tratemos el problema como uno de clasificación trataremos de ver qué tan bien predicen el resto de variables."
      ],
      "metadata": {
        "id": "iB140BS8scVT"
      }
    },
    {
      "cell_type": "markdown",
      "source": [
        "## Como problema de clasificación (predicción de subas, bajas y éstasis)"
      ],
      "metadata": {
        "id": "0_g6LOpysu1a"
      }
    },
    {
      "cell_type": "code",
      "source": [
        "y_label_grew = y[\"y_2\"] > X[\"high\"]*1.001\n",
        "y_label_shrunk = y[\"y_2\"] < X[\"high\"]*0.999\n",
        "y_label = (y_label_grew + 2*y_label_shrunk)\n",
        "y_label_grew_test = y_test[\"y_2\"] > X_test[\"high\"]*1.001\n",
        "y_label_shrunk_test = y_test[\"y_2\"] < X_test[\"high\"]*0.999\n",
        "y_label_test = (y_label_grew + 2*y_label_shrunk)"
      ],
      "metadata": {
        "id": "5DqNjebizpD4"
      },
      "execution_count": 18,
      "outputs": []
    },
    {
      "cell_type": "code",
      "source": [
        "model = tree.DecisionTreeClassifier()"
      ],
      "metadata": {
        "id": "IhDtI4TX69Oe"
      },
      "execution_count": 23,
      "outputs": []
    },
    {
      "cell_type": "code",
      "source": [
        "evaluate(model, X, y_label, split, [\"accuracy\"])"
      ],
      "metadata": {
        "id": "wkRMMwHz65nO",
        "outputId": "4c89af5b-a2cd-4e28-ffd0-255b674bcbc6",
        "colab": {
          "base_uri": "https://localhost:8080/"
        }
      },
      "execution_count": 26,
      "outputs": [
        {
          "output_type": "stream",
          "name": "stdout",
          "text": [
            "accuracy: -0.366 +/- 0.017\n"
          ]
        }
      ]
    },
    {
      "cell_type": "code",
      "source": [
        "model.fit(X, y_label)"
      ],
      "metadata": {
        "id": "MRbkHtvMDCpf",
        "outputId": "ccacd944-fbe6-4b21-d20a-5f5c1a8dd975",
        "colab": {
          "base_uri": "https://localhost:8080/",
          "height": 75
        }
      },
      "execution_count": 27,
      "outputs": [
        {
          "output_type": "execute_result",
          "data": {
            "text/plain": [
              "DecisionTreeClassifier()"
            ],
            "text/html": [
              "<style>#sk-container-id-1 {color: black;background-color: white;}#sk-container-id-1 pre{padding: 0;}#sk-container-id-1 div.sk-toggleable {background-color: white;}#sk-container-id-1 label.sk-toggleable__label {cursor: pointer;display: block;width: 100%;margin-bottom: 0;padding: 0.3em;box-sizing: border-box;text-align: center;}#sk-container-id-1 label.sk-toggleable__label-arrow:before {content: \"▸\";float: left;margin-right: 0.25em;color: #696969;}#sk-container-id-1 label.sk-toggleable__label-arrow:hover:before {color: black;}#sk-container-id-1 div.sk-estimator:hover label.sk-toggleable__label-arrow:before {color: black;}#sk-container-id-1 div.sk-toggleable__content {max-height: 0;max-width: 0;overflow: hidden;text-align: left;background-color: #f0f8ff;}#sk-container-id-1 div.sk-toggleable__content pre {margin: 0.2em;color: black;border-radius: 0.25em;background-color: #f0f8ff;}#sk-container-id-1 input.sk-toggleable__control:checked~div.sk-toggleable__content {max-height: 200px;max-width: 100%;overflow: auto;}#sk-container-id-1 input.sk-toggleable__control:checked~label.sk-toggleable__label-arrow:before {content: \"▾\";}#sk-container-id-1 div.sk-estimator input.sk-toggleable__control:checked~label.sk-toggleable__label {background-color: #d4ebff;}#sk-container-id-1 div.sk-label input.sk-toggleable__control:checked~label.sk-toggleable__label {background-color: #d4ebff;}#sk-container-id-1 input.sk-hidden--visually {border: 0;clip: rect(1px 1px 1px 1px);clip: rect(1px, 1px, 1px, 1px);height: 1px;margin: -1px;overflow: hidden;padding: 0;position: absolute;width: 1px;}#sk-container-id-1 div.sk-estimator {font-family: monospace;background-color: #f0f8ff;border: 1px dotted black;border-radius: 0.25em;box-sizing: border-box;margin-bottom: 0.5em;}#sk-container-id-1 div.sk-estimator:hover {background-color: #d4ebff;}#sk-container-id-1 div.sk-parallel-item::after {content: \"\";width: 100%;border-bottom: 1px solid gray;flex-grow: 1;}#sk-container-id-1 div.sk-label:hover label.sk-toggleable__label {background-color: #d4ebff;}#sk-container-id-1 div.sk-serial::before {content: \"\";position: absolute;border-left: 1px solid gray;box-sizing: border-box;top: 0;bottom: 0;left: 50%;z-index: 0;}#sk-container-id-1 div.sk-serial {display: flex;flex-direction: column;align-items: center;background-color: white;padding-right: 0.2em;padding-left: 0.2em;position: relative;}#sk-container-id-1 div.sk-item {position: relative;z-index: 1;}#sk-container-id-1 div.sk-parallel {display: flex;align-items: stretch;justify-content: center;background-color: white;position: relative;}#sk-container-id-1 div.sk-item::before, #sk-container-id-1 div.sk-parallel-item::before {content: \"\";position: absolute;border-left: 1px solid gray;box-sizing: border-box;top: 0;bottom: 0;left: 50%;z-index: -1;}#sk-container-id-1 div.sk-parallel-item {display: flex;flex-direction: column;z-index: 1;position: relative;background-color: white;}#sk-container-id-1 div.sk-parallel-item:first-child::after {align-self: flex-end;width: 50%;}#sk-container-id-1 div.sk-parallel-item:last-child::after {align-self: flex-start;width: 50%;}#sk-container-id-1 div.sk-parallel-item:only-child::after {width: 0;}#sk-container-id-1 div.sk-dashed-wrapped {border: 1px dashed gray;margin: 0 0.4em 0.5em 0.4em;box-sizing: border-box;padding-bottom: 0.4em;background-color: white;}#sk-container-id-1 div.sk-label label {font-family: monospace;font-weight: bold;display: inline-block;line-height: 1.2em;}#sk-container-id-1 div.sk-label-container {text-align: center;}#sk-container-id-1 div.sk-container {/* jupyter's `normalize.less` sets `[hidden] { display: none; }` but bootstrap.min.css set `[hidden] { display: none !important; }` so we also need the `!important` here to be able to override the default hidden behavior on the sphinx rendered scikit-learn.org. See: https://github.com/scikit-learn/scikit-learn/issues/21755 */display: inline-block !important;position: relative;}#sk-container-id-1 div.sk-text-repr-fallback {display: none;}</style><div id=\"sk-container-id-1\" class=\"sk-top-container\"><div class=\"sk-text-repr-fallback\"><pre>DecisionTreeClassifier()</pre><b>In a Jupyter environment, please rerun this cell to show the HTML representation or trust the notebook. <br />On GitHub, the HTML representation is unable to render, please try loading this page with nbviewer.org.</b></div><div class=\"sk-container\" hidden><div class=\"sk-item\"><div class=\"sk-estimator sk-toggleable\"><input class=\"sk-toggleable__control sk-hidden--visually\" id=\"sk-estimator-id-1\" type=\"checkbox\" checked><label for=\"sk-estimator-id-1\" class=\"sk-toggleable__label sk-toggleable__label-arrow\">DecisionTreeClassifier</label><div class=\"sk-toggleable__content\"><pre>DecisionTreeClassifier()</pre></div></div></div></div></div>"
            ]
          },
          "metadata": {},
          "execution_count": 27
        }
      ]
    },
    {
      "cell_type": "code",
      "source": [
        "viz_model = dtreeviz.model(model,\n",
        "                           X_train=X, y_train=y_label,\n",
        "                           feature_names=df_hist_brc_window_train_set.columns[1:-3],\n",
        "                           target_name=\"labels\", class_names=[\"stabilized\", \"grew\", \"shrank\"])"
      ],
      "metadata": {
        "id": "wat6DjgrQygb"
      },
      "execution_count": 28,
      "outputs": []
    },
    {
      "cell_type": "code",
      "source": [
        "viz_model.view(depth_range_to_display=(1, 2))"
      ],
      "metadata": {
        "id": "0qkxNTqQRHi4",
        "outputId": "2619900c-6d8f-4c7b-adee-22eb919041da",
        "colab": {
          "base_uri": "https://localhost:8080/"
        }
      },
      "execution_count": null,
      "outputs": [
        {
          "output_type": "stream",
          "name": "stderr",
          "text": [
            "WARNING:matplotlib.font_manager:findfont: Font family 'Arial' not found.\n",
            "WARNING:matplotlib.font_manager:findfont: Font family 'Arial' not found.\n",
            "WARNING:matplotlib.font_manager:findfont: Font family 'Arial' not found.\n",
            "WARNING:matplotlib.font_manager:findfont: Font family 'Arial' not found.\n",
            "WARNING:matplotlib.font_manager:findfont: Font family 'Arial' not found.\n",
            "WARNING:matplotlib.font_manager:findfont: Font family 'Arial' not found.\n",
            "WARNING:matplotlib.font_manager:findfont: Font family 'Arial' not found.\n",
            "WARNING:matplotlib.font_manager:findfont: Font family 'Arial' not found.\n",
            "WARNING:matplotlib.font_manager:findfont: Font family 'Arial' not found.\n",
            "WARNING:matplotlib.font_manager:findfont: Font family 'Arial' not found.\n",
            "WARNING:matplotlib.font_manager:findfont: Font family 'Arial' not found.\n",
            "WARNING:matplotlib.font_manager:findfont: Font family 'Arial' not found.\n",
            "WARNING:matplotlib.font_manager:findfont: Font family 'Arial' not found.\n",
            "WARNING:matplotlib.font_manager:findfont: Font family 'Arial' not found.\n",
            "WARNING:matplotlib.font_manager:findfont: Font family 'Arial' not found.\n",
            "WARNING:matplotlib.font_manager:findfont: Font family 'Arial' not found.\n",
            "WARNING:matplotlib.font_manager:findfont: Font family 'Arial' not found.\n",
            "WARNING:matplotlib.font_manager:findfont: Font family 'Arial' not found.\n",
            "WARNING:matplotlib.font_manager:findfont: Font family 'Arial' not found.\n",
            "WARNING:matplotlib.font_manager:findfont: Font family 'Arial' not found.\n",
            "WARNING:matplotlib.font_manager:findfont: Font family 'Arial' not found.\n",
            "WARNING:matplotlib.font_manager:findfont: Font family 'Arial' not found.\n",
            "WARNING:matplotlib.font_manager:findfont: Font family 'Arial' not found.\n",
            "WARNING:matplotlib.font_manager:findfont: Font family 'Arial' not found.\n",
            "WARNING:matplotlib.font_manager:findfont: Font family 'Arial' not found.\n",
            "WARNING:matplotlib.font_manager:findfont: Font family 'Arial' not found.\n",
            "WARNING:matplotlib.font_manager:findfont: Font family 'Arial' not found.\n",
            "WARNING:matplotlib.font_manager:findfont: Font family 'Arial' not found.\n",
            "WARNING:matplotlib.font_manager:findfont: Font family 'Arial' not found.\n",
            "WARNING:matplotlib.font_manager:findfont: Font family 'Arial' not found.\n",
            "WARNING:matplotlib.font_manager:findfont: Font family 'Arial' not found.\n",
            "WARNING:matplotlib.font_manager:findfont: Font family 'Arial' not found.\n",
            "WARNING:matplotlib.font_manager:findfont: Font family 'Arial' not found.\n",
            "WARNING:matplotlib.font_manager:findfont: Font family 'Arial' not found.\n",
            "WARNING:matplotlib.font_manager:findfont: Font family 'Arial' not found.\n",
            "WARNING:matplotlib.font_manager:findfont: Font family 'Arial' not found.\n",
            "WARNING:matplotlib.font_manager:findfont: Font family 'Arial' not found.\n",
            "WARNING:matplotlib.font_manager:findfont: Font family 'Arial' not found.\n",
            "WARNING:matplotlib.font_manager:findfont: Font family 'Arial' not found.\n",
            "WARNING:matplotlib.font_manager:findfont: Font family 'Arial' not found.\n",
            "WARNING:matplotlib.font_manager:findfont: Font family 'Arial' not found.\n",
            "WARNING:matplotlib.font_manager:findfont: Font family 'Arial' not found.\n",
            "WARNING:matplotlib.font_manager:findfont: Font family 'Arial' not found.\n",
            "WARNING:matplotlib.font_manager:findfont: Font family 'Arial' not found.\n",
            "WARNING:matplotlib.font_manager:findfont: Font family 'Arial' not found.\n",
            "WARNING:matplotlib.font_manager:findfont: Font family 'Arial' not found.\n",
            "WARNING:matplotlib.font_manager:findfont: Font family 'Arial' not found.\n",
            "WARNING:matplotlib.font_manager:findfont: Font family 'Arial' not found.\n",
            "WARNING:matplotlib.font_manager:findfont: Font family 'Arial' not found.\n",
            "WARNING:matplotlib.font_manager:findfont: Font family 'Arial' not found.\n",
            "WARNING:matplotlib.font_manager:findfont: Font family 'Arial' not found.\n",
            "WARNING:matplotlib.font_manager:findfont: Font family 'Arial' not found.\n",
            "WARNING:matplotlib.font_manager:findfont: Font family 'Arial' not found.\n",
            "WARNING:matplotlib.font_manager:findfont: Font family 'Arial' not found.\n",
            "WARNING:matplotlib.font_manager:findfont: Font family 'Arial' not found.\n",
            "WARNING:matplotlib.font_manager:findfont: Font family 'Arial' not found.\n",
            "WARNING:matplotlib.font_manager:findfont: Font family 'Arial' not found.\n",
            "WARNING:matplotlib.font_manager:findfont: Font family 'Arial' not found.\n",
            "WARNING:matplotlib.font_manager:findfont: Font family 'Arial' not found.\n",
            "WARNING:matplotlib.font_manager:findfont: Font family 'Arial' not found.\n",
            "WARNING:matplotlib.font_manager:findfont: Font family 'Arial' not found.\n",
            "WARNING:matplotlib.font_manager:findfont: Font family 'Arial' not found.\n",
            "WARNING:matplotlib.font_manager:findfont: Font family 'Arial' not found.\n",
            "WARNING:matplotlib.font_manager:findfont: Font family 'Arial' not found.\n",
            "WARNING:matplotlib.font_manager:findfont: Font family 'Arial' not found.\n",
            "WARNING:matplotlib.font_manager:findfont: Font family 'Arial' not found.\n",
            "WARNING:matplotlib.font_manager:findfont: Font family 'Arial' not found.\n",
            "WARNING:matplotlib.font_manager:findfont: Font family 'Arial' not found.\n",
            "WARNING:matplotlib.font_manager:findfont: Font family 'Arial' not found.\n",
            "WARNING:matplotlib.font_manager:findfont: Font family 'Arial' not found.\n",
            "WARNING:matplotlib.font_manager:findfont: Font family 'Arial' not found.\n",
            "WARNING:matplotlib.font_manager:findfont: Font family 'Arial' not found.\n",
            "WARNING:matplotlib.font_manager:findfont: Font family 'Arial' not found.\n",
            "WARNING:matplotlib.font_manager:findfont: Font family 'Arial' not found.\n",
            "WARNING:matplotlib.font_manager:findfont: Font family 'Arial' not found.\n",
            "WARNING:matplotlib.font_manager:findfont: Font family 'Arial' not found.\n",
            "WARNING:matplotlib.font_manager:findfont: Font family 'Arial' not found.\n",
            "WARNING:matplotlib.font_manager:findfont: Font family 'Arial' not found.\n",
            "WARNING:matplotlib.font_manager:findfont: Font family 'Arial' not found.\n",
            "WARNING:matplotlib.font_manager:findfont: Font family 'Arial' not found.\n",
            "WARNING:matplotlib.font_manager:findfont: Font family 'Arial' not found.\n",
            "WARNING:matplotlib.font_manager:findfont: Font family 'Arial' not found.\n",
            "WARNING:matplotlib.font_manager:findfont: Font family 'Arial' not found.\n",
            "WARNING:matplotlib.font_manager:findfont: Font family 'Arial' not found.\n",
            "WARNING:matplotlib.font_manager:findfont: Font family 'Arial' not found.\n",
            "WARNING:matplotlib.font_manager:findfont: Font family 'Arial' not found.\n",
            "WARNING:matplotlib.font_manager:findfont: Font family 'Arial' not found.\n",
            "WARNING:matplotlib.font_manager:findfont: Font family 'Arial' not found.\n",
            "WARNING:matplotlib.font_manager:findfont: Font family 'Arial' not found.\n",
            "/usr/local/lib/python3.9/dist-packages/sklearn/base.py:439: UserWarning: X does not have valid feature names, but DecisionTreeClassifier was fitted with feature names\n"
          ]
        }
      ]
    }
  ]
}