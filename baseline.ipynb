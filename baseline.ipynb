{
  "nbformat": 4,
  "nbformat_minor": 0,
  "metadata": {
    "colab": {
      "provenance": [],
      "authorship_tag": "ABX9TyOpYyZPkqOct9MVzYiIpe57",
      "include_colab_link": true
    },
    "kernelspec": {
      "name": "python3",
      "display_name": "Python 3"
    },
    "language_info": {
      "name": "python"
    }
  },
  "cells": [
    {
      "cell_type": "markdown",
      "metadata": {
        "id": "view-in-github",
        "colab_type": "text"
      },
      "source": [
        "<a href=\"https://colab.research.google.com/github/ignacio-chacon/crypto_trading_ai/blob/main/baseline.ipynb\" target=\"_parent\"><img src=\"https://colab.research.google.com/assets/colab-badge.svg\" alt=\"Open In Colab\"/></a>"
      ]
    },
    {
      "cell_type": "code",
      "source": [
        "!pip install ta"
      ],
      "metadata": {
        "colab": {
          "base_uri": "https://localhost:8080/"
        },
        "id": "QQm9ukUjl4J1",
        "outputId": "3e3aafdc-9af5-4170-a6e4-c7b607365986"
      },
      "execution_count": 1,
      "outputs": [
        {
          "output_type": "stream",
          "name": "stdout",
          "text": [
            "Looking in indexes: https://pypi.org/simple, https://us-python.pkg.dev/colab-wheels/public/simple/\n",
            "Collecting ta\n",
            "  Downloading ta-0.10.2.tar.gz (25 kB)\n",
            "  Preparing metadata (setup.py) ... \u001b[?25l\u001b[?25hdone\n",
            "Requirement already satisfied: numpy in /usr/local/lib/python3.9/dist-packages (from ta) (1.22.4)\n",
            "Requirement already satisfied: pandas in /usr/local/lib/python3.9/dist-packages (from ta) (1.4.4)\n",
            "Requirement already satisfied: pytz>=2020.1 in /usr/local/lib/python3.9/dist-packages (from pandas->ta) (2022.7.1)\n",
            "Requirement already satisfied: python-dateutil>=2.8.1 in /usr/local/lib/python3.9/dist-packages (from pandas->ta) (2.8.2)\n",
            "Requirement already satisfied: six>=1.5 in /usr/local/lib/python3.9/dist-packages (from python-dateutil>=2.8.1->pandas->ta) (1.16.0)\n",
            "Building wheels for collected packages: ta\n",
            "  Building wheel for ta (setup.py) ... \u001b[?25l\u001b[?25hdone\n",
            "  Created wheel for ta: filename=ta-0.10.2-py3-none-any.whl size=29103 sha256=6840ea5d2dfe2b0928cf2519b9b82307baf6e55842d729fc626cb1b032927163\n",
            "  Stored in directory: /root/.cache/pip/wheels/6a/76/03/7f785aaa50b9c6ec7e3fd105a62c1b2c45a034512d51e024a9\n",
            "Successfully built ta\n",
            "Installing collected packages: ta\n",
            "Successfully installed ta-0.10.2\n"
          ]
        }
      ]
    },
    {
      "cell_type": "code",
      "execution_count": 3,
      "metadata": {
        "id": "TfGAe56BlWVh"
      },
      "outputs": [],
      "source": [
        "import pandas as pd\n",
        "import ta"
      ]
    },
    {
      "cell_type": "code",
      "source": [
        "df_hist_data = pd.concat([pd.read_csv(\"https://github.com/ignacio-chacon/crypto_trading_ai/raw/main/hist_data_1.csv\"),\n",
        "                         pd.read_csv(\"https://github.com/ignacio-chacon/crypto_trading_ai/raw/main/hist_data_2.csv\")])"
      ],
      "metadata": {
        "id": "IDpBKOrbmOz-"
      },
      "execution_count": 4,
      "outputs": []
    },
    {
      "cell_type": "code",
      "source": [
        "df_hist_data.head()"
      ],
      "metadata": {
        "colab": {
          "base_uri": "https://localhost:8080/",
          "height": 206
        },
        "id": "DKCMbLLKmmky",
        "outputId": "046831e7-46c3-4eed-c2d3-419bedcdefe7"
      },
      "execution_count": 5,
      "outputs": [
        {
          "output_type": "execute_result",
          "data": {
            "text/plain": [
              "                  date    open    high     low   close  Volume BTC  \\\n",
              "0  2017-01-01 00:00:00  966.34  966.37  966.16  966.37   15.697376   \n",
              "1  2017-01-01 00:05:00  966.43  966.58  966.43  966.58    0.438732   \n",
              "2  2017-01-01 00:10:00  966.57  966.57  964.60  965.55    6.661770   \n",
              "3  2017-01-01 00:15:00  965.59  966.57  965.55  965.55   20.773385   \n",
              "4  2017-01-01 00:20:00  965.55  966.54  964.87  964.87    0.670923   \n",
              "\n",
              "     Volume USD  \n",
              "0  15169.245264  \n",
              "1    424.053962  \n",
              "2   6434.262218  \n",
              "3  20078.145181  \n",
              "4    647.704320  "
            ],
            "text/html": [
              "\n",
              "  <div id=\"df-8c974233-e338-41c2-9dbd-1910f2f05f0f\">\n",
              "    <div class=\"colab-df-container\">\n",
              "      <div>\n",
              "<style scoped>\n",
              "    .dataframe tbody tr th:only-of-type {\n",
              "        vertical-align: middle;\n",
              "    }\n",
              "\n",
              "    .dataframe tbody tr th {\n",
              "        vertical-align: top;\n",
              "    }\n",
              "\n",
              "    .dataframe thead th {\n",
              "        text-align: right;\n",
              "    }\n",
              "</style>\n",
              "<table border=\"1\" class=\"dataframe\">\n",
              "  <thead>\n",
              "    <tr style=\"text-align: right;\">\n",
              "      <th></th>\n",
              "      <th>date</th>\n",
              "      <th>open</th>\n",
              "      <th>high</th>\n",
              "      <th>low</th>\n",
              "      <th>close</th>\n",
              "      <th>Volume BTC</th>\n",
              "      <th>Volume USD</th>\n",
              "    </tr>\n",
              "  </thead>\n",
              "  <tbody>\n",
              "    <tr>\n",
              "      <th>0</th>\n",
              "      <td>2017-01-01 00:00:00</td>\n",
              "      <td>966.34</td>\n",
              "      <td>966.37</td>\n",
              "      <td>966.16</td>\n",
              "      <td>966.37</td>\n",
              "      <td>15.697376</td>\n",
              "      <td>15169.245264</td>\n",
              "    </tr>\n",
              "    <tr>\n",
              "      <th>1</th>\n",
              "      <td>2017-01-01 00:05:00</td>\n",
              "      <td>966.43</td>\n",
              "      <td>966.58</td>\n",
              "      <td>966.43</td>\n",
              "      <td>966.58</td>\n",
              "      <td>0.438732</td>\n",
              "      <td>424.053962</td>\n",
              "    </tr>\n",
              "    <tr>\n",
              "      <th>2</th>\n",
              "      <td>2017-01-01 00:10:00</td>\n",
              "      <td>966.57</td>\n",
              "      <td>966.57</td>\n",
              "      <td>964.60</td>\n",
              "      <td>965.55</td>\n",
              "      <td>6.661770</td>\n",
              "      <td>6434.262218</td>\n",
              "    </tr>\n",
              "    <tr>\n",
              "      <th>3</th>\n",
              "      <td>2017-01-01 00:15:00</td>\n",
              "      <td>965.59</td>\n",
              "      <td>966.57</td>\n",
              "      <td>965.55</td>\n",
              "      <td>965.55</td>\n",
              "      <td>20.773385</td>\n",
              "      <td>20078.145181</td>\n",
              "    </tr>\n",
              "    <tr>\n",
              "      <th>4</th>\n",
              "      <td>2017-01-01 00:20:00</td>\n",
              "      <td>965.55</td>\n",
              "      <td>966.54</td>\n",
              "      <td>964.87</td>\n",
              "      <td>964.87</td>\n",
              "      <td>0.670923</td>\n",
              "      <td>647.704320</td>\n",
              "    </tr>\n",
              "  </tbody>\n",
              "</table>\n",
              "</div>\n",
              "      <button class=\"colab-df-convert\" onclick=\"convertToInteractive('df-8c974233-e338-41c2-9dbd-1910f2f05f0f')\"\n",
              "              title=\"Convert this dataframe to an interactive table.\"\n",
              "              style=\"display:none;\">\n",
              "        \n",
              "  <svg xmlns=\"http://www.w3.org/2000/svg\" height=\"24px\"viewBox=\"0 0 24 24\"\n",
              "       width=\"24px\">\n",
              "    <path d=\"M0 0h24v24H0V0z\" fill=\"none\"/>\n",
              "    <path d=\"M18.56 5.44l.94 2.06.94-2.06 2.06-.94-2.06-.94-.94-2.06-.94 2.06-2.06.94zm-11 1L8.5 8.5l.94-2.06 2.06-.94-2.06-.94L8.5 2.5l-.94 2.06-2.06.94zm10 10l.94 2.06.94-2.06 2.06-.94-2.06-.94-.94-2.06-.94 2.06-2.06.94z\"/><path d=\"M17.41 7.96l-1.37-1.37c-.4-.4-.92-.59-1.43-.59-.52 0-1.04.2-1.43.59L10.3 9.45l-7.72 7.72c-.78.78-.78 2.05 0 2.83L4 21.41c.39.39.9.59 1.41.59.51 0 1.02-.2 1.41-.59l7.78-7.78 2.81-2.81c.8-.78.8-2.07 0-2.86zM5.41 20L4 18.59l7.72-7.72 1.47 1.35L5.41 20z\"/>\n",
              "  </svg>\n",
              "      </button>\n",
              "      \n",
              "  <style>\n",
              "    .colab-df-container {\n",
              "      display:flex;\n",
              "      flex-wrap:wrap;\n",
              "      gap: 12px;\n",
              "    }\n",
              "\n",
              "    .colab-df-convert {\n",
              "      background-color: #E8F0FE;\n",
              "      border: none;\n",
              "      border-radius: 50%;\n",
              "      cursor: pointer;\n",
              "      display: none;\n",
              "      fill: #1967D2;\n",
              "      height: 32px;\n",
              "      padding: 0 0 0 0;\n",
              "      width: 32px;\n",
              "    }\n",
              "\n",
              "    .colab-df-convert:hover {\n",
              "      background-color: #E2EBFA;\n",
              "      box-shadow: 0px 1px 2px rgba(60, 64, 67, 0.3), 0px 1px 3px 1px rgba(60, 64, 67, 0.15);\n",
              "      fill: #174EA6;\n",
              "    }\n",
              "\n",
              "    [theme=dark] .colab-df-convert {\n",
              "      background-color: #3B4455;\n",
              "      fill: #D2E3FC;\n",
              "    }\n",
              "\n",
              "    [theme=dark] .colab-df-convert:hover {\n",
              "      background-color: #434B5C;\n",
              "      box-shadow: 0px 1px 3px 1px rgba(0, 0, 0, 0.15);\n",
              "      filter: drop-shadow(0px 1px 2px rgba(0, 0, 0, 0.3));\n",
              "      fill: #FFFFFF;\n",
              "    }\n",
              "  </style>\n",
              "\n",
              "      <script>\n",
              "        const buttonEl =\n",
              "          document.querySelector('#df-8c974233-e338-41c2-9dbd-1910f2f05f0f button.colab-df-convert');\n",
              "        buttonEl.style.display =\n",
              "          google.colab.kernel.accessAllowed ? 'block' : 'none';\n",
              "\n",
              "        async function convertToInteractive(key) {\n",
              "          const element = document.querySelector('#df-8c974233-e338-41c2-9dbd-1910f2f05f0f');\n",
              "          const dataTable =\n",
              "            await google.colab.kernel.invokeFunction('convertToInteractive',\n",
              "                                                     [key], {});\n",
              "          if (!dataTable) return;\n",
              "\n",
              "          const docLinkHtml = 'Like what you see? Visit the ' +\n",
              "            '<a target=\"_blank\" href=https://colab.research.google.com/notebooks/data_table.ipynb>data table notebook</a>'\n",
              "            + ' to learn more about interactive tables.';\n",
              "          element.innerHTML = '';\n",
              "          dataTable['output_type'] = 'display_data';\n",
              "          await google.colab.output.renderOutput(dataTable, element);\n",
              "          const docLink = document.createElement('div');\n",
              "          docLink.innerHTML = docLinkHtml;\n",
              "          element.appendChild(docLink);\n",
              "        }\n",
              "      </script>\n",
              "    </div>\n",
              "  </div>\n",
              "  "
            ]
          },
          "metadata": {},
          "execution_count": 5
        }
      ]
    },
    {
      "cell_type": "code",
      "source": [
        "df_hist_data_ta = ta.add_all_ta_features(df_hist_data,open=\"open\", high=\"high\", low=\"low\", close=\"close\", volume=\"Volume BTC\")"
      ],
      "metadata": {
        "colab": {
          "base_uri": "https://localhost:8080/"
        },
        "id": "yKUmhyMHnMam",
        "outputId": "5f7df37c-8418-482e-aaf5-c2a80b68e328"
      },
      "execution_count": 7,
      "outputs": [
        {
          "output_type": "stream",
          "name": "stderr",
          "text": [
            "/usr/local/lib/python3.9/dist-packages/ta/trend.py:780: RuntimeWarning: invalid value encountered in double_scalars\n",
            "  dip[idx] = 100 * (self._dip[idx] / value)\n",
            "/usr/local/lib/python3.9/dist-packages/ta/trend.py:785: RuntimeWarning: invalid value encountered in double_scalars\n",
            "  din[idx] = 100 * (self._din[idx] / value)\n"
          ]
        }
      ]
    },
    {
      "cell_type": "code",
      "source": [
        "df_hist_data_ta.info()"
      ],
      "metadata": {
        "colab": {
          "base_uri": "https://localhost:8080/"
        },
        "id": "eF_wmYWCpWkn",
        "outputId": "1e580017-555f-413a-909c-362d4db6d650"
      },
      "execution_count": 9,
      "outputs": [
        {
          "output_type": "stream",
          "name": "stdout",
          "text": [
            "<class 'pandas.core.frame.DataFrame'>\n",
            "Int64Index: 542925 entries, 0 to 292924\n",
            "Data columns (total 93 columns):\n",
            " #   Column                     Non-Null Count   Dtype  \n",
            "---  ------                     --------------   -----  \n",
            " 0   date                       542925 non-null  object \n",
            " 1   open                       535063 non-null  float64\n",
            " 2   high                       535063 non-null  float64\n",
            " 3   low                        535063 non-null  float64\n",
            " 4   close                      535063 non-null  float64\n",
            " 5   Volume BTC                 542925 non-null  float64\n",
            " 6   Volume USD                 542925 non-null  float64\n",
            " 7   volume_adi                 542925 non-null  float64\n",
            " 8   volume_obv                 542925 non-null  float64\n",
            " 9   volume_cmf                 542906 non-null  float64\n",
            " 10  volume_fi                  542912 non-null  float64\n",
            " 11  volume_em                  534511 non-null  float64\n",
            " 12  volume_sma_em              531268 non-null  float64\n",
            " 13  volume_vpt                 535061 non-null  float64\n",
            " 14  volume_vwap                535037 non-null  float64\n",
            " 15  volume_mfi                 534961 non-null  float64\n",
            " 16  volume_nvi                 542925 non-null  float64\n",
            " 17  volatility_bbm             535025 non-null  float64\n",
            " 18  volatility_bbh             535025 non-null  float64\n",
            " 19  volatility_bbl             535025 non-null  float64\n",
            " 20  volatility_bbw             535025 non-null  float64\n",
            " 21  volatility_bbp             535020 non-null  float64\n",
            " 22  volatility_bbhi            542925 non-null  float64\n",
            " 23  volatility_bbli            542925 non-null  float64\n",
            " 24  volatility_kcc             535045 non-null  float64\n",
            " 25  volatility_kch             535072 non-null  float64\n",
            " 26  volatility_kcl             535072 non-null  float64\n",
            " 27  volatility_kcw             535045 non-null  float64\n",
            " 28  volatility_kcp             534986 non-null  float64\n",
            " 29  volatility_kchi            542925 non-null  float64\n",
            " 30  volatility_kcli            542925 non-null  float64\n",
            " 31  volatility_dcl             535025 non-null  float64\n",
            " 32  volatility_dch             535025 non-null  float64\n",
            " 33  volatility_dcm             535025 non-null  float64\n",
            " 34  volatility_dcw             535025 non-null  float64\n",
            " 35  volatility_dcp             534976 non-null  float64\n",
            " 36  volatility_atr             409544 non-null  float64\n",
            " 37  volatility_ui              535037 non-null  float64\n",
            " 38  trend_macd                 542900 non-null  float64\n",
            " 39  trend_macd_signal          542892 non-null  float64\n",
            " 40  trend_macd_diff            542892 non-null  float64\n",
            " 41  trend_sma_fast             535041 non-null  float64\n",
            " 42  trend_sma_slow             535013 non-null  float64\n",
            " 43  trend_ema_fast             542914 non-null  float64\n",
            " 44  trend_ema_slow             542900 non-null  float64\n",
            " 45  trend_vortex_ind_pos       534967 non-null  float64\n",
            " 46  trend_vortex_ind_neg       534967 non-null  float64\n",
            " 47  trend_vortex_ind_diff      534963 non-null  float64\n",
            " 48  trend_trix                 542882 non-null  float64\n",
            " 49  trend_mass_index           542885 non-null  float64\n",
            " 50  trend_dpo                  535025 non-null  float64\n",
            " 51  trend_kst                  535005 non-null  float64\n",
            " 52  trend_kst_sig              535013 non-null  float64\n",
            " 53  trend_kst_diff             535005 non-null  float64\n",
            " 54  trend_ichimoku_conv        535047 non-null  float64\n",
            " 55  trend_ichimoku_base        535013 non-null  float64\n",
            " 56  trend_ichimoku_a           535013 non-null  float64\n",
            " 57  trend_ichimoku_b           535114 non-null  float64\n",
            " 58  trend_stc                  542854 non-null  float64\n",
            " 59  trend_adx                  409544 non-null  float64\n",
            " 60  trend_adx_pos              409544 non-null  float64\n",
            " 61  trend_adx_neg              409544 non-null  float64\n",
            " 62  trend_cci                  534991 non-null  float64\n",
            " 63  trend_visual_ichimoku_a    535013 non-null  float64\n",
            " 64  trend_visual_ichimoku_b    535114 non-null  float64\n",
            " 65  trend_aroon_up             535015 non-null  float64\n",
            " 66  trend_aroon_down           535015 non-null  float64\n",
            " 67  trend_aroon_ind            535015 non-null  float64\n",
            " 68  trend_psar_up              278919 non-null  float64\n",
            " 69  trend_psar_down            264004 non-null  float64\n",
            " 70  trend_psar_up_indicator    542925 non-null  float64\n",
            " 71  trend_psar_down_indicator  542925 non-null  float64\n",
            " 72  momentum_rsi               542912 non-null  float64\n",
            " 73  momentum_stoch_rsi         538749 non-null  float64\n",
            " 74  momentum_stoch_rsi_k       538437 non-null  float64\n",
            " 75  momentum_stoch_rsi_d       538125 non-null  float64\n",
            " 76  momentum_tsi               542888 non-null  float64\n",
            " 77  momentum_uo                534882 non-null  float64\n",
            " 78  momentum_stoch             534965 non-null  float64\n",
            " 79  momentum_stoch_signal      534953 non-null  float64\n",
            " 80  momentum_wr                534965 non-null  float64\n",
            " 81  momentum_ao                534997 non-null  float64\n",
            " 82  momentum_roc               535039 non-null  float64\n",
            " 83  momentum_ppo               542900 non-null  float64\n",
            " 84  momentum_ppo_signal        542892 non-null  float64\n",
            " 85  momentum_ppo_hist          542892 non-null  float64\n",
            " 86  momentum_pvo               542900 non-null  float64\n",
            " 87  momentum_pvo_signal        542892 non-null  float64\n",
            " 88  momentum_pvo_hist          542892 non-null  float64\n",
            " 89  momentum_kama              409535 non-null  float64\n",
            " 90  others_dr                  535062 non-null  float64\n",
            " 91  others_dlr                 535061 non-null  float64\n",
            " 92  others_cr                  535063 non-null  float64\n",
            "dtypes: float64(92), object(1)\n",
            "memory usage: 405.5+ MB\n"
          ]
        }
      ]
    }
  ]
}